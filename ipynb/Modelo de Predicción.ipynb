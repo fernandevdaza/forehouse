{
 "cells": [
  {
   "cell_type": "markdown",
   "id": "AeLZI9_z3iTP",
   "metadata": {
    "id": "AeLZI9_z3iTP"
   },
   "source": [
    "# Modelo con Precio\n"
   ]
  },
  {
   "cell_type": "code",
   "execution_count": null,
   "id": "7cd3b3c5-332c-4f2a-a253-60ca0ce4a33d",
   "metadata": {
    "id": "7cd3b3c5-332c-4f2a-a253-60ca0ce4a33d"
   },
   "outputs": [],
   "source": [
    "import pandas as pd\n",
    "from sklearn.model_selection import train_test_split, GridSearchCV, cross_val_score\n",
    "from xgboost import XGBRegressor\n",
    "from sklearn.metrics import mean_squared_error\n",
    "import numpy as np"
   ]
  },
  {
   "cell_type": "code",
   "execution_count": null,
   "id": "40eff9f3-ac57-45ad-90bc-6e422fbb14a2",
   "metadata": {
    "id": "40eff9f3-ac57-45ad-90bc-6e422fbb14a2"
   },
   "outputs": [],
   "source": [
    "import warnings\n",
    "warnings.filterwarnings(\"ignore\", category=UserWarning)"
   ]
  },
  {
   "cell_type": "code",
   "execution_count": null,
   "id": "69f96d0f-c3e2-411f-b797-f518469f622a",
   "metadata": {
    "id": "69f96d0f-c3e2-411f-b797-f518469f622a"
   },
   "outputs": [],
   "source": [
    "df = pd.read_csv('./csv/for_price_m2_model.csv')"
   ]
  },
  {
   "cell_type": "code",
   "execution_count": null,
   "id": "8f637824-7c49-47a3-98cd-bb2fab61594c",
   "metadata": {
    "id": "8f637824-7c49-47a3-98cd-bb2fab61594c"
   },
   "outputs": [],
   "source": [
    "df['log_price'] = np.log(df['price'])"
   ]
  },
  {
   "cell_type": "code",
   "execution_count": null,
   "id": "7e3e2ad5-40b7-4880-9e13-9f58919b3266",
   "metadata": {
    "colab": {
     "base_uri": "https://localhost:8080/"
    },
    "id": "7e3e2ad5-40b7-4880-9e13-9f58919b3266",
    "outputId": "fdec5638-3270-4d98-b8aa-a747a02ffd8a"
   },
   "outputs": [
    {
     "data": {
      "text/plain": [
       "Index(['Unnamed: 0', 'characteristics_bedrooms', 'characteristics_bathrooms',\n",
       "       'characteristics_garages', 'characteristics_area', 'location_lat',\n",
       "       'location_lng', 'price', 'neighborhood_name', 'district_name',\n",
       "       'extras_Terreno', 'price_per_m2', 'rooms_per_area', 'log_price'],\n",
       "      dtype='object')"
      ]
     },
     "execution_count": 5,
     "metadata": {},
     "output_type": "execute_result"
    }
   ],
   "source": [
    "df.columns"
   ]
  },
  {
   "cell_type": "code",
   "execution_count": null,
   "id": "06e69052-ceb6-4f80-a49c-5ef468e3ab6b",
   "metadata": {
    "id": "06e69052-ceb6-4f80-a49c-5ef468e3ab6b"
   },
   "outputs": [],
   "source": [
    "features = ['characteristics_bedrooms', 'characteristics_bathrooms', 'characteristics_garages',\n",
    "            'characteristics_area', 'location_lat', 'location_lng', 'extras_Terreno', 'price_per_m2']"
   ]
  },
  {
   "cell_type": "code",
   "execution_count": null,
   "id": "df46c5fc-5d4b-4484-9b1a-4366901cd17e",
   "metadata": {
    "id": "df46c5fc-5d4b-4484-9b1a-4366901cd17e"
   },
   "outputs": [],
   "source": [
    "X = df[features]\n",
    "y = df['log_price']"
   ]
  },
  {
   "cell_type": "code",
   "execution_count": null,
   "id": "4ad12d33-4fee-493a-9160-7e8fb389d2bd",
   "metadata": {
    "id": "4ad12d33-4fee-493a-9160-7e8fb389d2bd"
   },
   "outputs": [],
   "source": [
    "X_train, X_test, y_train, y_test = train_test_split(X, y, test_size=0.2, random_state=42)"
   ]
  },
  {
   "cell_type": "code",
   "execution_count": null,
   "id": "b6050d31-d51a-47a1-8ecc-58c6e395ea86",
   "metadata": {
    "id": "b6050d31-d51a-47a1-8ecc-58c6e395ea86"
   },
   "outputs": [],
   "source": [
    "xgb_model = XGBRegressor(tree_method='gpu_hist', gpu_id=0)\n",
    "\n",
    "param_grid = {\n",
    "    'n_estimators': [100, 200, 300],\n",
    "    'max_depth': [3, 5, 7],\n",
    "    'learning_rate': [0.01, 0.1, 0.3],\n",
    "    'subsample': [0.8, 1.0],\n",
    "    'colsample_bytree': [0.8, 1.0]\n",
    "}\n"
   ]
  },
  {
   "cell_type": "code",
   "execution_count": null,
   "id": "ed40bb12-64d4-46c0-be28-0850513ee39b",
   "metadata": {
    "id": "ed40bb12-64d4-46c0-be28-0850513ee39b"
   },
   "outputs": [],
   "source": [
    "param_grid_alt = {\n",
    "    'n_estimators': [50, 150, 250],\n",
    "    'max_depth': [4, 6, 8],\n",
    "    'learning_rate': [0.05, 0.15, 0.25],\n",
    "    'subsample': [0.7, 0.85, 1.0],\n",
    "    'colsample_bytree': [0.7, 0.9, 1.0]\n",
    "}\n"
   ]
  },
  {
   "cell_type": "code",
   "execution_count": null,
   "id": "c9dca62e-5d88-46f1-92c6-63497648987f",
   "metadata": {
    "colab": {
     "base_uri": "https://localhost:8080/",
     "height": 134
    },
    "id": "c9dca62e-5d88-46f1-92c6-63497648987f",
    "outputId": "90a994eb-14d6-4dc0-faaf-428dbe92f7cc"
   },
   "outputs": [
    {
     "name": "stdout",
     "output_type": "stream",
     "text": [
      "Fitting 5 folds for each of 243 candidates, totalling 1215 fits\n"
     ]
    },
    {
     "data": {
      "text/html": [
       "<style>#sk-container-id-1 {color: black;}#sk-container-id-1 pre{padding: 0;}#sk-container-id-1 div.sk-toggleable {background-color: white;}#sk-container-id-1 label.sk-toggleable__label {cursor: pointer;display: block;width: 100%;margin-bottom: 0;padding: 0.3em;box-sizing: border-box;text-align: center;}#sk-container-id-1 label.sk-toggleable__label-arrow:before {content: \"▸\";float: left;margin-right: 0.25em;color: #696969;}#sk-container-id-1 label.sk-toggleable__label-arrow:hover:before {color: black;}#sk-container-id-1 div.sk-estimator:hover label.sk-toggleable__label-arrow:before {color: black;}#sk-container-id-1 div.sk-toggleable__content {max-height: 0;max-width: 0;overflow: hidden;text-align: left;background-color: #f0f8ff;}#sk-container-id-1 div.sk-toggleable__content pre {margin: 0.2em;color: black;border-radius: 0.25em;background-color: #f0f8ff;}#sk-container-id-1 input.sk-toggleable__control:checked~div.sk-toggleable__content {max-height: 200px;max-width: 100%;overflow: auto;}#sk-container-id-1 input.sk-toggleable__control:checked~label.sk-toggleable__label-arrow:before {content: \"▾\";}#sk-container-id-1 div.sk-estimator input.sk-toggleable__control:checked~label.sk-toggleable__label {background-color: #d4ebff;}#sk-container-id-1 div.sk-label input.sk-toggleable__control:checked~label.sk-toggleable__label {background-color: #d4ebff;}#sk-container-id-1 input.sk-hidden--visually {border: 0;clip: rect(1px 1px 1px 1px);clip: rect(1px, 1px, 1px, 1px);height: 1px;margin: -1px;overflow: hidden;padding: 0;position: absolute;width: 1px;}#sk-container-id-1 div.sk-estimator {font-family: monospace;background-color: #f0f8ff;border: 1px dotted black;border-radius: 0.25em;box-sizing: border-box;margin-bottom: 0.5em;}#sk-container-id-1 div.sk-estimator:hover {background-color: #d4ebff;}#sk-container-id-1 div.sk-parallel-item::after {content: \"\";width: 100%;border-bottom: 1px solid gray;flex-grow: 1;}#sk-container-id-1 div.sk-label:hover label.sk-toggleable__label {background-color: #d4ebff;}#sk-container-id-1 div.sk-serial::before {content: \"\";position: absolute;border-left: 1px solid gray;box-sizing: border-box;top: 0;bottom: 0;left: 50%;z-index: 0;}#sk-container-id-1 div.sk-serial {display: flex;flex-direction: column;align-items: center;background-color: white;padding-right: 0.2em;padding-left: 0.2em;position: relative;}#sk-container-id-1 div.sk-item {position: relative;z-index: 1;}#sk-container-id-1 div.sk-parallel {display: flex;align-items: stretch;justify-content: center;background-color: white;position: relative;}#sk-container-id-1 div.sk-item::before, #sk-container-id-1 div.sk-parallel-item::before {content: \"\";position: absolute;border-left: 1px solid gray;box-sizing: border-box;top: 0;bottom: 0;left: 50%;z-index: -1;}#sk-container-id-1 div.sk-parallel-item {display: flex;flex-direction: column;z-index: 1;position: relative;background-color: white;}#sk-container-id-1 div.sk-parallel-item:first-child::after {align-self: flex-end;width: 50%;}#sk-container-id-1 div.sk-parallel-item:last-child::after {align-self: flex-start;width: 50%;}#sk-container-id-1 div.sk-parallel-item:only-child::after {width: 0;}#sk-container-id-1 div.sk-dashed-wrapped {border: 1px dashed gray;margin: 0 0.4em 0.5em 0.4em;box-sizing: border-box;padding-bottom: 0.4em;background-color: white;}#sk-container-id-1 div.sk-label label {font-family: monospace;font-weight: bold;display: inline-block;line-height: 1.2em;}#sk-container-id-1 div.sk-label-container {text-align: center;}#sk-container-id-1 div.sk-container {/* jupyter's `normalize.less` sets `[hidden] { display: none; }` but bootstrap.min.css set `[hidden] { display: none !important; }` so we also need the `!important` here to be able to override the default hidden behavior on the sphinx rendered scikit-learn.org. See: https://github.com/scikit-learn/scikit-learn/issues/21755 */display: inline-block !important;position: relative;}#sk-container-id-1 div.sk-text-repr-fallback {display: none;}</style><div id=\"sk-container-id-1\" class=\"sk-top-container\"><div class=\"sk-text-repr-fallback\"><pre>GridSearchCV(cv=5,\n",
       "             estimator=XGBRegressor(base_score=None, booster=None,\n",
       "                                    callbacks=None, colsample_bylevel=None,\n",
       "                                    colsample_bynode=None,\n",
       "                                    colsample_bytree=None, device=None,\n",
       "                                    early_stopping_rounds=None,\n",
       "                                    enable_categorical=False, eval_metric=None,\n",
       "                                    feature_types=None, gamma=None, gpu_id=0,\n",
       "                                    grow_policy=None, importance_type=None,\n",
       "                                    interaction_constraints=None,\n",
       "                                    learning_ra...\n",
       "                                    max_depth=None, max_leaves=None,\n",
       "                                    min_child_weight=None, missing=nan,\n",
       "                                    monotone_constraints=None,\n",
       "                                    multi_strategy=None, n_estimators=None,\n",
       "                                    n_jobs=None, num_parallel_tree=None, ...),\n",
       "             param_grid={&#x27;colsample_bytree&#x27;: [0.7, 0.9, 1.0],\n",
       "                         &#x27;learning_rate&#x27;: [0.05, 0.15, 0.25],\n",
       "                         &#x27;max_depth&#x27;: [4, 6, 8], &#x27;n_estimators&#x27;: [50, 150, 250],\n",
       "                         &#x27;subsample&#x27;: [0.7, 0.85, 1.0]},\n",
       "             scoring=&#x27;neg_mean_squared_error&#x27;, verbose=1)</pre><b>In a Jupyter environment, please rerun this cell to show the HTML representation or trust the notebook. <br />On GitHub, the HTML representation is unable to render, please try loading this page with nbviewer.org.</b></div><div class=\"sk-container\" hidden><div class=\"sk-item sk-dashed-wrapped\"><div class=\"sk-label-container\"><div class=\"sk-label sk-toggleable\"><input class=\"sk-toggleable__control sk-hidden--visually\" id=\"sk-estimator-id-1\" type=\"checkbox\" ><label for=\"sk-estimator-id-1\" class=\"sk-toggleable__label sk-toggleable__label-arrow\">GridSearchCV</label><div class=\"sk-toggleable__content\"><pre>GridSearchCV(cv=5,\n",
       "             estimator=XGBRegressor(base_score=None, booster=None,\n",
       "                                    callbacks=None, colsample_bylevel=None,\n",
       "                                    colsample_bynode=None,\n",
       "                                    colsample_bytree=None, device=None,\n",
       "                                    early_stopping_rounds=None,\n",
       "                                    enable_categorical=False, eval_metric=None,\n",
       "                                    feature_types=None, gamma=None, gpu_id=0,\n",
       "                                    grow_policy=None, importance_type=None,\n",
       "                                    interaction_constraints=None,\n",
       "                                    learning_ra...\n",
       "                                    max_depth=None, max_leaves=None,\n",
       "                                    min_child_weight=None, missing=nan,\n",
       "                                    monotone_constraints=None,\n",
       "                                    multi_strategy=None, n_estimators=None,\n",
       "                                    n_jobs=None, num_parallel_tree=None, ...),\n",
       "             param_grid={&#x27;colsample_bytree&#x27;: [0.7, 0.9, 1.0],\n",
       "                         &#x27;learning_rate&#x27;: [0.05, 0.15, 0.25],\n",
       "                         &#x27;max_depth&#x27;: [4, 6, 8], &#x27;n_estimators&#x27;: [50, 150, 250],\n",
       "                         &#x27;subsample&#x27;: [0.7, 0.85, 1.0]},\n",
       "             scoring=&#x27;neg_mean_squared_error&#x27;, verbose=1)</pre></div></div></div><div class=\"sk-parallel\"><div class=\"sk-parallel-item\"><div class=\"sk-item\"><div class=\"sk-label-container\"><div class=\"sk-label sk-toggleable\"><input class=\"sk-toggleable__control sk-hidden--visually\" id=\"sk-estimator-id-2\" type=\"checkbox\" ><label for=\"sk-estimator-id-2\" class=\"sk-toggleable__label sk-toggleable__label-arrow\">estimator: XGBRegressor</label><div class=\"sk-toggleable__content\"><pre>XGBRegressor(base_score=None, booster=None, callbacks=None,\n",
       "             colsample_bylevel=None, colsample_bynode=None,\n",
       "             colsample_bytree=None, device=None, early_stopping_rounds=None,\n",
       "             enable_categorical=False, eval_metric=None, feature_types=None,\n",
       "             gamma=None, gpu_id=0, grow_policy=None, importance_type=None,\n",
       "             interaction_constraints=None, learning_rate=None, max_bin=None,\n",
       "             max_cat_threshold=None, max_cat_to_onehot=None,\n",
       "             max_delta_step=None, max_depth=None, max_leaves=None,\n",
       "             min_child_weight=None, missing=nan, monotone_constraints=None,\n",
       "             multi_strategy=None, n_estimators=None, n_jobs=None,\n",
       "             num_parallel_tree=None, ...)</pre></div></div></div><div class=\"sk-serial\"><div class=\"sk-item\"><div class=\"sk-estimator sk-toggleable\"><input class=\"sk-toggleable__control sk-hidden--visually\" id=\"sk-estimator-id-3\" type=\"checkbox\" ><label for=\"sk-estimator-id-3\" class=\"sk-toggleable__label sk-toggleable__label-arrow\">XGBRegressor</label><div class=\"sk-toggleable__content\"><pre>XGBRegressor(base_score=None, booster=None, callbacks=None,\n",
       "             colsample_bylevel=None, colsample_bynode=None,\n",
       "             colsample_bytree=None, device=None, early_stopping_rounds=None,\n",
       "             enable_categorical=False, eval_metric=None, feature_types=None,\n",
       "             gamma=None, gpu_id=0, grow_policy=None, importance_type=None,\n",
       "             interaction_constraints=None, learning_rate=None, max_bin=None,\n",
       "             max_cat_threshold=None, max_cat_to_onehot=None,\n",
       "             max_delta_step=None, max_depth=None, max_leaves=None,\n",
       "             min_child_weight=None, missing=nan, monotone_constraints=None,\n",
       "             multi_strategy=None, n_estimators=None, n_jobs=None,\n",
       "             num_parallel_tree=None, ...)</pre></div></div></div></div></div></div></div></div></div></div>"
      ],
      "text/plain": [
       "GridSearchCV(cv=5,\n",
       "             estimator=XGBRegressor(base_score=None, booster=None,\n",
       "                                    callbacks=None, colsample_bylevel=None,\n",
       "                                    colsample_bynode=None,\n",
       "                                    colsample_bytree=None, device=None,\n",
       "                                    early_stopping_rounds=None,\n",
       "                                    enable_categorical=False, eval_metric=None,\n",
       "                                    feature_types=None, gamma=None, gpu_id=0,\n",
       "                                    grow_policy=None, importance_type=None,\n",
       "                                    interaction_constraints=None,\n",
       "                                    learning_ra...\n",
       "                                    max_depth=None, max_leaves=None,\n",
       "                                    min_child_weight=None, missing=nan,\n",
       "                                    monotone_constraints=None,\n",
       "                                    multi_strategy=None, n_estimators=None,\n",
       "                                    n_jobs=None, num_parallel_tree=None, ...),\n",
       "             param_grid={'colsample_bytree': [0.7, 0.9, 1.0],\n",
       "                         'learning_rate': [0.05, 0.15, 0.25],\n",
       "                         'max_depth': [4, 6, 8], 'n_estimators': [50, 150, 250],\n",
       "                         'subsample': [0.7, 0.85, 1.0]},\n",
       "             scoring='neg_mean_squared_error', verbose=1)"
      ]
     },
     "execution_count": 10,
     "metadata": {},
     "output_type": "execute_result"
    }
   ],
   "source": [
    "grid_search = GridSearchCV(xgb_model, param_grid_alt, cv=5, scoring='neg_mean_squared_error', verbose=1)\n",
    "grid_search.fit(X_train, y_train)"
   ]
  },
  {
   "cell_type": "code",
   "execution_count": null,
   "id": "bf59d74f-c1d4-425c-8fb1-b708607c167d",
   "metadata": {
    "colab": {
     "base_uri": "https://localhost:8080/"
    },
    "id": "bf59d74f-c1d4-425c-8fb1-b708607c167d",
    "outputId": "64743683-fb08-4f52-a058-dc3d44599b41"
   },
   "outputs": [
    {
     "name": "stdout",
     "output_type": "stream",
     "text": [
      "Mejores hiperparámetros: {'colsample_bytree': 1.0, 'learning_rate': 0.05, 'max_depth': 4, 'n_estimators': 250, 'subsample': 0.7}\n"
     ]
    }
   ],
   "source": [
    "best_xgb_model = grid_search.best_estimator_\n",
    "print(f\"Mejores hiperparámetros: {grid_search.best_params_}\")"
   ]
  },
  {
   "cell_type": "code",
   "execution_count": null,
   "id": "3de37254-70c0-47d1-bc7b-9092330d40e4",
   "metadata": {
    "id": "3de37254-70c0-47d1-bc7b-9092330d40e4"
   },
   "outputs": [],
   "source": [
    "y_pred = best_xgb_model.predict(X_test)\n",
    "mse = mean_squared_error(y_test, y_pred)\n",
    "rmse = mse ** 0.5"
   ]
  },
  {
   "cell_type": "code",
   "execution_count": null,
   "id": "cb90e08a-5049-4c74-b4e4-be78106f8387",
   "metadata": {
    "colab": {
     "base_uri": "https://localhost:8080/"
    },
    "id": "cb90e08a-5049-4c74-b4e4-be78106f8387",
    "outputId": "19355394-4c95-410e-dcee-7d30f6dcb512"
   },
   "outputs": [
    {
     "name": "stdout",
     "output_type": "stream",
     "text": [
      "Error cuadrático medio (MSE) después de ajustar hiperparámetros: 0.006753790791467596\n",
      "Raíz del error cuadrático medio (RMSE) después de ajustar hiperparámetros: 0.08218145040985585\n"
     ]
    }
   ],
   "source": [
    "print(f'Error cuadrático medio (MSE) después de ajustar hiperparámetros: {mse}')\n",
    "print(f'Raíz del error cuadrático medio (RMSE) después de ajustar hiperparámetros: {rmse}')"
   ]
  },
  {
   "cell_type": "code",
   "execution_count": null,
   "id": "bb5ad98f-f729-4602-bb62-adfa22ee1208",
   "metadata": {
    "colab": {
     "base_uri": "https://localhost:8080/"
    },
    "id": "bb5ad98f-f729-4602-bb62-adfa22ee1208",
    "outputId": "37615685-9e7e-477d-837a-939863d5e8dd"
   },
   "outputs": [
    {
     "name": "stdout",
     "output_type": "stream",
     "text": [
      "RMSE medio en validación cruzada: 0.09639271252655364\n"
     ]
    }
   ],
   "source": [
    "# Validación cruzada con el mejor modelo\n",
    "cv_scores = cross_val_score(best_xgb_model, X, y, cv=5, scoring='neg_mean_squared_error')\n",
    "cv_rmse_scores = np.sqrt(-cv_scores)\n",
    "print(f'RMSE medio en validación cruzada: {cv_rmse_scores.mean()}')"
   ]
  },
  {
   "cell_type": "code",
   "execution_count": null,
   "id": "dab94939-f199-4383-8eee-3134d6047196",
   "metadata": {
    "id": "dab94939-f199-4383-8eee-3134d6047196"
   },
   "outputs": [],
   "source": [
    "casa_nueva = pd.DataFrame({\n",
    "    'characteristics_bedrooms': [3],\n",
    "    'characteristics_bathrooms': [2],\n",
    "    'characteristics_garages': [2],\n",
    "    'characteristics_area': [170],\n",
    "    'location_lat': [-17.7675387],\n",
    "    'location_lng': [-63.11527],\n",
    "    'extras_Terreno': [480.0],\n",
    "    'price_per_m2': [477.201708591]\n",
    "})\n"
   ]
  },
  {
   "cell_type": "code",
   "execution_count": null,
   "id": "e65b3409-42e2-4893-a6ce-10488e1c5343",
   "metadata": {
    "id": "e65b3409-42e2-4893-a6ce-10488e1c5343"
   },
   "outputs": [],
   "source": [
    "casa_nueva = pd.DataFrame({\n",
    "    'characteristics_bedrooms': [3],\n",
    "    'characteristics_bathrooms': [2],\n",
    "    'characteristics_garages': [1],\n",
    "    'characteristics_area': [200.0],\n",
    "    'location_lat': [-17.7922602],\n",
    "    'location_lng': [-63.1949559],\n",
    "    'extras_Terreno': [184.0],\n",
    "    'price_per_m2': [982.3555166191]\n",
    "})"
   ]
  },
  {
   "cell_type": "code",
   "execution_count": null,
   "id": "e3534435-b74d-44d2-a8ab-e53a3190c52c",
   "metadata": {
    "colab": {
     "base_uri": "https://localhost:8080/"
    },
    "id": "e3534435-b74d-44d2-a8ab-e53a3190c52c",
    "outputId": "8bf65862-1f6b-4ad2-8636-0bb45078a444"
   },
   "outputs": [
    {
     "name": "stdout",
     "output_type": "stream",
     "text": [
      "El precio original predicho para la casa es: $198369.25\n"
     ]
    }
   ],
   "source": [
    "\n",
    "\n",
    "prediccion_precio = best_xgb_model.predict(casa_nueva)\n",
    "\n",
    "precio_original = np.exp(prediccion_precio)\n",
    "print(f'El precio original predicho para la casa es: ${precio_original[0]:.2f}')"
   ]
  },
  {
   "cell_type": "code",
   "execution_count": null,
   "id": "df88a9ec-3cc5-4983-b38e-91c262d02784",
   "metadata": {
    "id": "df88a9ec-3cc5-4983-b38e-91c262d02784"
   },
   "outputs": [],
   "source": [
    "casa_nueva = pd.DataFrame({\n",
    "    'characteristics_bedrooms': [4],\n",
    "    'characteristics_bathrooms': [3],\n",
    "    'characteristics_garages': [2],\n",
    "    'characteristics_area': [254],\n",
    "    'location_lat': [-17.765837436946995],\n",
    "    'location_lng': [-63.201217388440114],\n",
    "    'extras_Terreno': [159],\n",
    "    'price_per_m2': [1006.548176793]\n",
    "})\n"
   ]
  },
  {
   "cell_type": "code",
   "execution_count": null,
   "id": "3e53d8a3-930f-47f4-b467-4d0f9437a791",
   "metadata": {
    "id": "3e53d8a3-930f-47f4-b467-4d0f9437a791"
   },
   "outputs": [],
   "source": [
    "casa_nueva = pd.DataFrame({\n",
    "    'characteristics_bedrooms': [3],\n",
    "    'characteristics_bathrooms': [1],\n",
    "    'characteristics_garages': [2],\n",
    "    'characteristics_area': [110],\n",
    "    'location_lat': [-17.768624602981113],\n",
    "    'location_lng': [-63.198995590646525],\n",
    "    'extras_Terreno': [273.0],\n",
    "    'price_per_m2': [1006.548176793]\n",
    "})\n"
   ]
  },
  {
   "cell_type": "markdown",
   "id": "zrU3_OM_3eTB",
   "metadata": {
    "id": "zrU3_OM_3eTB"
   },
   "source": [
    "# Modelo sin Precio"
   ]
  },
  {
   "cell_type": "code",
   "execution_count": null,
   "id": "Nb4XkMYcJ45o",
   "metadata": {
    "colab": {
     "base_uri": "https://localhost:8080/",
     "height": 568
    },
    "id": "Nb4XkMYcJ45o",
    "outputId": "bed68c48-65df-4a4a-ca71-2829f7179e2f"
   },
   "outputs": [
    {
     "name": "stdout",
     "output_type": "stream",
     "text": [
      "Fitting 5 folds for each of 243 candidates, totalling 1215 fits\n",
      "Mejores hiperparámetros: {'colsample_bytree': 0.7, 'learning_rate': 0.05, 'max_depth': 4, 'n_estimators': 250, 'subsample': 0.85}\n",
      "Error cuadrático medio (MSE) después de ajustar hiperparámetros: 0.05792300922515439\n",
      "Raíz del error cuadrático medio (RMSE) después de ajustar hiperparámetros: 0.24067199509945977\n",
      "RMSE en la escala original: 65998.55704189188\n",
      "MAPE: 18.54910709007527%\n",
      "RMSE medio en validación cruzada: 0.3061845623162305\n"
     ]
    },
    {
     "data": {
      "image/png": "[encoded data removed]",
      "text/plain": [
       "<Figure size 640x480 with 1 Axes>"
      ]
     },
     "metadata": {},
     "output_type": "display_data"
    },
    {
     "name": "stdout",
     "output_type": "stream",
     "text": [
      "El precio original predicho para la casa es: $174941.77\n"
     ]
    }
   ],
   "source": [
    "import pandas as pd\n",
    "from sklearn.model_selection import train_test_split, GridSearchCV, cross_val_score\n",
    "from xgboost import XGBRegressor, plot_importance\n",
    "from sklearn.metrics import mean_squared_error, mean_absolute_percentage_error\n",
    "import numpy as np\n",
    "import warnings\n",
    "import matplotlib.pyplot as plt\n",
    "warnings.filterwarnings(\"ignore\", category=UserWarning)\n",
    "\n",
    "df = pd.read_csv('./csv/for_no_price_m2_model.csv')\n",
    "\n",
    "\n",
    "df['log_price'] = np.log(df['price'])\n",
    "\n",
    "\n",
    "features = ['characteristics_bedrooms', 'characteristics_bathrooms', 'characteristics_garages',\n",
    "            'characteristics_area', 'location_lat', 'location_lng', 'extras_Terreno']\n",
    "\n",
    "\n",
    "X = df[features]\n",
    "y = df['log_price']\n",
    "\n",
    "\n",
    "X_train, X_test, y_train, y_test = train_test_split(X, y, test_size=0.2, random_state=42)\n",
    "\n",
    "\n",
    "xgb_model = XGBRegressor(tree_method='gpu_hist', gpu_id=0)\n",
    "\n",
    "\n",
    "param_grid_alt = {\n",
    "    'n_estimators': [50, 150, 250],\n",
    "    'max_depth': [4, 6, 8],\n",
    "    'learning_rate': [0.05, 0.15, 0.25],\n",
    "    'subsample': [0.7, 0.85, 1.0],\n",
    "    'colsample_bytree': [0.7, 0.9, 1.0]\n",
    "}\n",
    "\n",
    "\n",
    "grid_search = GridSearchCV(xgb_model, param_grid_alt, cv=5, scoring='neg_mean_squared_error', verbose=1)\n",
    "grid_search.fit(X_train, y_train)\n",
    "\n",
    "best_xgb_model = grid_search.best_estimator_\n",
    "print(f\"Mejores hiperparámetros: {grid_search.best_params_}\")\n",
    "\n",
    "\n",
    "y_pred = best_xgb_model.predict(X_test)\n",
    "mse = mean_squared_error(y_test, y_pred)\n",
    "rmse = np.sqrt(mse)\n",
    "print(f'Error cuadrático medio (MSE) después de ajustar hiperparámetros: {mse}')\n",
    "print(f'Raíz del error cuadrático medio (RMSE) después de ajustar hiperparámetros: {rmse}')\n",
    "\n",
    "\n",
    "y_test_exp = np.exp(y_test)\n",
    "y_pred_exp = np.exp(y_pred)\n",
    "\n",
    "\n",
    "mse_original = mean_squared_error(y_test_exp, y_pred_exp)\n",
    "rmse_original = np.sqrt(mse_original)\n",
    "print(f'RMSE en la escala original: {rmse_original}')\n",
    "\n",
    "\n",
    "mape = mean_absolute_percentage_error(y_test_exp, y_pred_exp) * 100\n",
    "print(f'MAPE: {mape}%')\n",
    "\n",
    "\n",
    "cv_scores = cross_val_score(best_xgb_model, X, y, cv=5, scoring='neg_mean_squared_error')\n",
    "cv_rmse_scores = np.sqrt(-cv_scores)\n",
    "print(f'RMSE medio en validación cruzada: {cv_rmse_scores.mean()}')\n",
    "\n",
    "\n",
    "plot_importance(best_xgb_model)\n",
    "plt.show()\n",
    "\n",
    "\n",
    "casa_nueva = pd.DataFrame({\n",
    "    'characteristics_bedrooms': [3],\n",
    "    'characteristics_bathrooms': [2],\n",
    "    'characteristics_garages': [1],\n",
    "    'characteristics_area': [200.0],\n",
    "    'location_lat': [-17.7922602],\n",
    "    'location_lng': [-63.1949559],\n",
    "    'extras_Terreno': [184.0],\n",
    "})\n",
    "\n",
    "prediccion_precio = best_xgb_model.predict(casa_nueva)\n",
    "\n",
    "\n",
    "precio_original = np.exp(prediccion_precio)\n",
    "print(f'El precio original predicho para la casa es: ${precio_original[0]:.2f}')"
   ]
  }
 ],
 "metadata": {
  "accelerator": "GPU",
  "colab": {
   "gpuType": "T4",
   "provenance": []
  },
  "kernelspec": {
   "display_name": "Python 3 (ipykernel)",
   "language": "python",
   "name": "python3"
  },
  "language_info": {
   "codemirror_mode": {
    "name": "ipython",
    "version": 3
   },
   "file_extension": ".py",
   "mimetype": "text/x-python",
   "name": "python",
   "nbconvert_exporter": "python",
   "pygments_lexer": "ipython3",
   "version": "3.12.4"
  }
 },
 "nbformat": 4,
 "nbformat_minor": 5
}
